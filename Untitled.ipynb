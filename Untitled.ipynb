{
 "cells": [
  {
   "cell_type": "code",
   "execution_count": 12,
   "id": "737237cf",
   "metadata": {},
   "outputs": [],
   "source": [
    "class Node:\n",
    "    def __init__(self, data):\n",
    "        self.left = None\n",
    "        self.data = data\n",
    "        self.right = None\n",
    "\n",
    "class BinaryTree:\n",
    "    def __init__(self):\n",
    "        pass\n",
    "\n",
    "    def takeInput(self):\n",
    "        data = int(input(\"enter data:\"))\n",
    "        if data == -1:\n",
    "            return None\n",
    "        else:\n",
    "            root = Node(data)\n",
    "            root.left = self.takeInput()\n",
    "            root.right = self.takeInput()\n",
    "        return root\n",
    "\n",
    "    def PrintTree(self, root):\n",
    "        if root == None:\n",
    "            return\n",
    "        else:\n",
    "            print(root.data, end=\":\")\n",
    "        if root.left:\n",
    "            print(\"L:\", root.left.data, end=',')\n",
    "        if root.right:\n",
    "            print(\"R:\", root.right.data, end='')\n",
    "        print()\n",
    "        self.PrintTree(root.left)\n",
    "        self.PrintTree(root.right)\n",
    "\n",
    "    def count(self, root):\n",
    "        if root == None:\n",
    "            return 0\n",
    "        return 1 + self.count(root.left) + self.count(root.right)\n",
    "    \n",
    "    def inorder(self,root):\n",
    "        if root:\n",
    "            self.inorder(root.left)\n",
    "            print(root.data)\n",
    "            self.inorder(root.right)\n",
    "            \n",
    "    def preorder(self,root):\n",
    "        if root:\n",
    "            print(root.data)\n",
    "            self.preorder(root.left)\n",
    "            self.preorder(root.right)\n",
    "            \n",
    "    def postorder(self,root):\n",
    "        if root:\n",
    "            self.postorder(root.left)\n",
    "            self.postorder(root.right)\n",
    "            print(root.data)\n",
    "            \n",
    "    def insert(self,root,data):\n",
    "        if root==None:\n",
    "            return Node(data)\n",
    "        \n",
    "        q=[]\n",
    "        q.append(root)\n",
    "        \n",
    "        while q:\n",
    "            x=q[0]\n",
    "            q.pop(0)\n",
    "            \n",
    "            if x.left==None:\n",
    "                x.left=Node(data)\n",
    "                break\n",
    "            else:\n",
    "                q.append(x.left)\n",
    "                \n",
    "            if x.right==None:\n",
    "                x.right=Node(data)\n",
    "                break\n",
    "            else:\n",
    "                q.append(x.right)\n",
    "    \n",
    "    def search(self,root,key):\n",
    "        if root==None:\n",
    "            return False\n",
    "        if root.data==key:\n",
    "            return True\n",
    "        return self.search(root.left,key) or self.search(root.right,key)"
   ]
  },
  {
   "cell_type": "code",
   "execution_count": 13,
   "id": "0f044928",
   "metadata": {},
   "outputs": [
    {
     "name": "stdout",
     "output_type": "stream",
     "text": [
      "enter data:1\n",
      "enter data:2\n",
      "enter data:-1\n",
      "enter data:-1\n",
      "enter data:3\n",
      "enter data:-1\n",
      "enter data:-1\n",
      "1:L: 2,R: 3\n",
      "2:\n",
      "3:\n",
      "3\n"
     ]
    }
   ],
   "source": [
    "tree = BinaryTree()\n",
    "\n",
    "# Take input and print the tree\n",
    "root2 = tree.takeInput()\n",
    "tree.PrintTree(root2)\n",
    "\n",
    "# Count nodes in the tree\n",
    "print(tree.count(root2))"
   ]
  },
  {
   "cell_type": "code",
   "execution_count": 4,
   "id": "6ac0a117",
   "metadata": {},
   "outputs": [
    {
     "name": "stdout",
     "output_type": "stream",
     "text": [
      "2\n",
      "1\n",
      "3\n"
     ]
    }
   ],
   "source": [
    "tree.inorder(root2)"
   ]
  },
  {
   "cell_type": "code",
   "execution_count": 5,
   "id": "3e2d51b1",
   "metadata": {},
   "outputs": [
    {
     "name": "stdout",
     "output_type": "stream",
     "text": [
      "1\n",
      "2\n",
      "3\n"
     ]
    }
   ],
   "source": [
    "tree.preorder(root2)"
   ]
  },
  {
   "cell_type": "code",
   "execution_count": 6,
   "id": "d4669d05",
   "metadata": {},
   "outputs": [
    {
     "name": "stdout",
     "output_type": "stream",
     "text": [
      "2\n",
      "3\n",
      "1\n"
     ]
    }
   ],
   "source": [
    "tree.postorder(root2)"
   ]
  },
  {
   "cell_type": "code",
   "execution_count": 14,
   "id": "ee0c826d",
   "metadata": {},
   "outputs": [
    {
     "data": {
      "text/plain": [
       "True"
      ]
     },
     "execution_count": 14,
     "metadata": {},
     "output_type": "execute_result"
    }
   ],
   "source": [
    "tree.insert(root2,4)\n",
    "tree.search(root2,4)"
   ]
  },
  {
   "cell_type": "code",
   "execution_count": 15,
   "id": "97ef906c",
   "metadata": {},
   "outputs": [
    {
     "name": "stdout",
     "output_type": "stream",
     "text": [
      "1:L: 2,R: 3\n",
      "2:L: 4,\n",
      "4:\n",
      "3:\n"
     ]
    }
   ],
   "source": [
    "tree.PrintTree(root2)"
   ]
  },
  {
   "cell_type": "code",
   "execution_count": null,
   "id": "15cd124e",
   "metadata": {},
   "outputs": [],
   "source": []
  }
 ],
 "metadata": {
  "kernelspec": {
   "display_name": "Python 3 (ipykernel)",
   "language": "python",
   "name": "python3"
  },
  "language_info": {
   "codemirror_mode": {
    "name": "ipython",
    "version": 3
   },
   "file_extension": ".py",
   "mimetype": "text/x-python",
   "name": "python",
   "nbconvert_exporter": "python",
   "pygments_lexer": "ipython3",
   "version": "3.11.5"
  }
 },
 "nbformat": 4,
 "nbformat_minor": 5
}
